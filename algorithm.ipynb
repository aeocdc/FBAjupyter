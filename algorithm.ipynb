{
 "cells": [
  {
   "cell_type": "markdown",
   "metadata": {},
   "source": [
    "# Model input"
   ]
  },
  {
   "cell_type": "code",
   "execution_count": null,
   "metadata": {},
   "outputs": [],
   "source": [
    "import cobra\n",
    "from cobra.io import read_sbml_model\n",
    "model = read_sbml_model('iJO1366.xml')"
   ]
  },
  {
   "cell_type": "markdown",
   "metadata": {},
   "source": [
    "# FESOF\n",
    "target: the design target(reaction id)"
   ]
  },
  {
   "cell_type": "code",
   "execution_count": null,
   "metadata": {
    "scrolled": true
   },
   "outputs": [],
   "source": [
    "from cameo.strain_design.deterministic.flux_variability_based import FSEOF\n",
    "fseof = FSEOF(model)\n",
    "result = fseof.run(target=model.reactions.EX_lys_L_LPAREN_e_RPAREN_)\n",
    "df = result.data_frame\n",
    "df.to_excel('lys_fesof.xlsx')"
   ]
  },
  {
   "cell_type": "markdown",
   "metadata": {},
   "source": [
    "# OptKnock\n",
    "max_knockouts: max number of knockouts allowed           \n",
    "max_results: max number of different designs to return if found          \n",
    "target: the design target(reaction id)              \n",
    "biomass: the biomass id in the model"
   ]
  },
  {
   "cell_type": "code",
   "execution_count": null,
   "metadata": {
    "scrolled": true
   },
   "outputs": [],
   "source": [
    "from cameo.strain_design import OptKnock\n",
    "optknock = OptKnock(model,fraction_of_optimum=0.1)\n",
    "result = optknock.run(max_knockouts=5, target=\"EX_trp__L_e\",biomass=\"BIOMASS_Ec_iJO1366_core_53p95M\",max_result=5)\n",
    "df = result.data_frame\n",
    "df.to_excel('trp_optknock.xlsx')"
   ]
  },
  {
   "cell_type": "markdown",
   "metadata": {},
   "source": [
    "# OptGene\n",
    "target: the design target(reaction id)        \n",
    "biomass: the biomass id in the model             \n",
    "substrate: the main carbon source in the model\n",
    "simulation_method: Any method from cameo.flux_analysis.simulation or equivalent ( fba(default), pfba, moma, lmoma, room )     \n",
    "max_knockouts: max number of knockouts allowed            \n",
    "max_evaluations: number of evaluations before stop( default:20000 )            \n",
    "population_size: number of individuals in each generation( default:200 )           \n",
    "growth_coupled: If true will use the minimum flux rate to compute the fitness"
   ]
  },
  {
   "cell_type": "code",
   "execution_count": null,
   "metadata": {
    "scrolled": true
   },
   "outputs": [],
   "source": [
    "from cameo.strain_design import OptGene\n",
    "optgene = OptGene(model)\n",
    "result = optgene.run(target=model.reactions.EX_trp__L_e,\n",
    "                    biomass=model.reactions.BIOMASS_Ec_iJO1366_core_53p95M,\n",
    "                    substrate=model.metabolites.glc__D_e,max_knockouts=5,\n",
    "                    simulation_method=fba,\n",
    "                    max_evaluations=20000,population_size=200,\n",
    "                    plot=False, growth_coupled=True)\n",
    "df = result.data_frame\n",
    "df.to_excel('trp_optgene.xlsx')"
   ]
  },
  {
   "cell_type": "markdown",
   "metadata": {},
   "source": [
    "# OptSwap"
   ]
  },
  {
   "cell_type": "code",
   "execution_count": null,
   "metadata": {
    "scrolled": true
   },
   "outputs": [],
   "source": [
    "from cameo.strain_design.heuristic.evolutionary.optimization import CofactorSwapOptimization\n",
    "from cameo.strain_design.heuristic.evolutionary.objective_functions import product_yield\n",
    "model.objective = model.reactions.EX_thr__L_e\n",
    "model.reactions.BIOMASS_Ec_iJO1366_core_53p95M.lower_bound = 0.1\n",
    "py = product_yield(model.reactions.EX_thr__L_e, model.reactions.EX_glc__D_e)\n",
    "optswap = CofactorSwapOptimization(model=model, objective_function=py)\n",
    "optswap.run(max_evaluations=2000, max_size=2)"
   ]
  },
  {
   "cell_type": "code",
   "execution_count": null,
   "metadata": {},
   "outputs": [],
   "source": []
  }
 ],
 "metadata": {
  "kernelspec": {
   "display_name": "Python 3",
   "language": "python",
   "name": "python3"
  },
  "language_info": {
   "codemirror_mode": {
    "name": "ipython",
    "version": 3
   },
   "file_extension": ".py",
   "mimetype": "text/x-python",
   "name": "python",
   "nbconvert_exporter": "python",
   "pygments_lexer": "ipython3",
   "version": "3.7.3"
  }
 },
 "nbformat": 4,
 "nbformat_minor": 2
}
